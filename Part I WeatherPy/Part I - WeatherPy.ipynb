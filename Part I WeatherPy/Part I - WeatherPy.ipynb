{
 "cells": [
  {
   "cell_type": "markdown",
   "metadata": {},
   "source": [
    "# Part I - WeatherPy"
   ]
  },
  {
   "cell_type": "code",
   "execution_count": 44,
   "metadata": {},
   "outputs": [],
   "source": [
    "# Dependencies and Setup\n",
    "import matplotlib.pyplot as plt\n",
    "import pandas as pd\n",
    "import numpy as np\n",
    "import requests\n",
    "import time\n",
    "from scipy.stats import linregress\n",
    "\n",
    "# Import API key\n",
    "from api_keys import weather_api_key as api_key\n",
    "\n",
    "# Incorporated citipy to determine city based on latitude and longitude\n",
    "from citipy import citipy\n",
    "\n",
    "# Output File (CSV)\n",
    "output_data_file = \"output_data/cities.csv\"\n",
    "\n",
    "# Range of latitudes and longitudes\n",
    "lat_range = (-90, 90)\n",
    "lng_range = (-180, 180)"
   ]
  },
  {
   "cell_type": "markdown",
   "metadata": {},
   "source": [
    "# Cities List"
   ]
  },
  {
   "cell_type": "code",
   "execution_count": 45,
   "metadata": {},
   "outputs": [
    {
     "data": {
      "text/plain": [
       "603"
      ]
     },
     "execution_count": 45,
     "metadata": {},
     "output_type": "execute_result"
    }
   ],
   "source": [
    "# List for holding lat_lngs and cities\n",
    "lat_lngs = []\n",
    "cities = []\n",
    "\n",
    "# Create a set of random lat and lng combinations\n",
    "lats = np.random.uniform(lat_range[0], lat_range[1], size=1500)\n",
    "lngs = np.random.uniform(lng_range[0], lng_range[1], size=1500)\n",
    "lat_lngs = zip(lats, lngs)\n",
    "\n",
    "# Identify nearest city for each lat, lng combination\n",
    "for lat_lng in lat_lngs:\n",
    "    city = citipy.nearest_city(lat_lng[0], lat_lng[1]).city_name\n",
    "    \n",
    "    # If the city is unique, then add it to a our cities list\n",
    "    if city not in cities:\n",
    "        cities.append(city)\n",
    "\n",
    "# Print the city count to confirm sufficient count\n",
    "len(cities)"
   ]
  },
  {
   "cell_type": "markdown",
   "metadata": {},
   "source": [
    "# Requests API Calls"
   ]
  },
  {
   "cell_type": "code",
   "execution_count": 7,
   "metadata": {},
   "outputs": [],
   "source": [
    "# Example of API call\n",
    "# https://openweathermap.org/appid"
   ]
  },
  {
   "cell_type": "code",
   "execution_count": 46,
   "metadata": {},
   "outputs": [],
   "source": [
    "# Initial query URL\n",
    "\n",
    "url = \"http://api.openweathermap.org/data/2.5/weather?\"\n",
    "\n",
    "# Farenheit Temperature\n",
    "\n",
    "units = \"imperial\" \n",
    "\n",
    "# Query URL\n",
    "query_url = f\"{url}appid={api_key}&units={units}&q=\"\n",
    "\n",
    "# Response for one city (testing the API)\n",
    "# response = requests.get(query_url + \"bayan\").json()\n",
    "# response"
   ]
  },
  {
   "cell_type": "code",
   "execution_count": 47,
   "metadata": {},
   "outputs": [],
   "source": [
    "# IF YOU WANT TO RESET THE LISTS run this cell\n",
    "\n",
    "city_id = []\n",
    "city_name = []\n",
    "city_latitude = []\n",
    "city_longitude = []\n",
    "city_country = []\n",
    "city_temperature = []\n",
    "city_max_temperature = []\n",
    "city_humidity = []\n",
    "city_cloudiness = []\n",
    "city_wind_speed = []"
   ]
  },
  {
   "cell_type": "code",
   "execution_count": 48,
   "metadata": {},
   "outputs": [
    {
     "name": "stdout",
     "output_type": "stream",
     "text": [
      "Beginning Data Retrieval\n",
      "-----------------------------\n",
      "Processing Record 1 of Set 1 | rondonopolis\n",
      "Processing Record 2 of Set 1 | banjar\n",
      "Processing Record 3 of Set 1 | atuona\n",
      "Processing Record 4 of Set 1 | ko samui\n",
      "Processing Record 5 of Set 1 | janow lubelski\n",
      "Processing Record 6 of Set 1 | rikitea\n",
      "Processing Record 7 of Set 1 | vaini\n",
      "Processing Record 8 of Set 1 | taolanaro\n",
      "City not found...Skipping\n",
      "Processing Record 9 of Set 1 | hermanus\n",
      "Processing Record 10 of Set 1 | wana\n",
      "Processing Record 11 of Set 1 | mys shmidta\n",
      "City not found...Skipping\n",
      "Processing Record 12 of Set 1 | biograd na moru\n",
      "Processing Record 13 of Set 1 | bloemfontein\n",
      "Processing Record 14 of Set 1 | east london\n",
      "Processing Record 15 of Set 1 | provideniya\n",
      "Processing Record 16 of Set 1 | ushuaia\n",
      "Processing Record 17 of Set 1 | ostrovnoy\n",
      "Processing Record 18 of Set 1 | codrington\n",
      "Processing Record 19 of Set 1 | carnarvon\n",
      "Processing Record 20 of Set 1 | fortuna\n",
      "Processing Record 21 of Set 1 | minnedosa\n",
      "Processing Record 22 of Set 1 | ancud\n",
      "Processing Record 23 of Set 1 | saint george\n",
      "Processing Record 24 of Set 1 | ginir\n",
      "Processing Record 25 of Set 1 | parkersburg\n",
      "Processing Record 26 of Set 1 | katsuura\n",
      "Processing Record 27 of Set 1 | karratha\n",
      "Processing Record 28 of Set 1 | semey\n",
      "Processing Record 29 of Set 1 | thompson\n",
      "Processing Record 30 of Set 1 | lata\n",
      "Processing Record 31 of Set 1 | mataura\n",
      "Processing Record 32 of Set 1 | noumea\n",
      "Processing Record 33 of Set 1 | jamestown\n",
      "Processing Record 34 of Set 1 | mamontovo\n",
      "Processing Record 35 of Set 1 | dikson\n",
      "Processing Record 36 of Set 1 | butaritari\n",
      "Processing Record 37 of Set 1 | touros\n",
      "Processing Record 38 of Set 1 | kapaa\n",
      "Processing Record 39 of Set 1 | coolum beach\n",
      "Processing Record 40 of Set 1 | mar del plata\n",
      "Processing Record 41 of Set 1 | luanda\n",
      "Processing Record 42 of Set 1 | baoning\n",
      "Processing Record 43 of Set 1 | tuggurt\n",
      "City not found...Skipping\n",
      "Processing Record 44 of Set 1 | punta arenas\n",
      "Processing Record 45 of Set 1 | maniitsoq\n",
      "Processing Record 46 of Set 1 | saldanha\n",
      "Processing Record 47 of Set 1 | eureka\n",
      "Processing Record 48 of Set 1 | airai\n",
      "Processing Record 49 of Set 1 | qaanaaq\n",
      "Processing Record 50 of Set 1 | lagoa\n",
      "Processing Record 0 of Set 2 | aflu\n",
      "City not found...Skipping\n",
      "Processing Record 1 of Set 2 | ust-kuyga\n",
      "Processing Record 2 of Set 2 | mount gambier\n",
      "Processing Record 3 of Set 2 | yarensk\n",
      "Processing Record 4 of Set 2 | port alfred\n",
      "Processing Record 5 of Set 2 | romitan\n",
      "Processing Record 6 of Set 2 | iquitos\n",
      "Processing Record 7 of Set 2 | bredasdorp\n",
      "Processing Record 8 of Set 2 | nanortalik\n",
      "Processing Record 9 of Set 2 | belushya guba\n",
      "City not found...Skipping\n",
      "Processing Record 10 of Set 2 | barrow\n",
      "Processing Record 11 of Set 2 | mackay\n",
      "Processing Record 12 of Set 2 | san juan bautista\n",
      "Processing Record 13 of Set 2 | tumannyy\n",
      "City not found...Skipping\n",
      "Processing Record 14 of Set 2 | chivay\n",
      "Processing Record 15 of Set 2 | tuatapere\n",
      "Processing Record 16 of Set 2 | esperance\n",
      "Processing Record 17 of Set 2 | muros\n",
      "Processing Record 18 of Set 2 | afitos\n",
      "Processing Record 19 of Set 2 | robertsport\n",
      "Processing Record 20 of Set 2 | nuuk\n",
      "Processing Record 21 of Set 2 | honiara\n",
      "Processing Record 22 of Set 2 | lebu\n",
      "Processing Record 23 of Set 2 | tomatlan\n",
      "Processing Record 24 of Set 2 | tianpeng\n",
      "Processing Record 25 of Set 2 | guarapari\n",
      "Processing Record 26 of Set 2 | bria\n",
      "Processing Record 27 of Set 2 | wilmington\n",
      "Processing Record 28 of Set 2 | olinda\n",
      "Processing Record 29 of Set 2 | iracoubo\n",
      "Processing Record 30 of Set 2 | manokwari\n",
      "Processing Record 31 of Set 2 | darnah\n",
      "Processing Record 32 of Set 2 | iqaluit\n",
      "Processing Record 33 of Set 2 | alvaraes\n",
      "Processing Record 34 of Set 2 | flinders\n",
      "Processing Record 35 of Set 2 | kahului\n",
      "Processing Record 36 of Set 2 | yeppoon\n",
      "Processing Record 37 of Set 2 | barentsburg\n",
      "City not found...Skipping\n",
      "Processing Record 38 of Set 2 | camana\n",
      "Processing Record 39 of Set 2 | basco\n",
      "Processing Record 40 of Set 2 | clyde river\n",
      "Processing Record 41 of Set 2 | isangel\n",
      "Processing Record 42 of Set 2 | carutapera\n",
      "Processing Record 43 of Set 2 | vila franca do campo\n",
      "Processing Record 44 of Set 2 | nelson bay\n",
      "Processing Record 45 of Set 2 | hofn\n",
      "Processing Record 46 of Set 2 | khatanga\n",
      "Processing Record 47 of Set 2 | cherskiy\n",
      "Processing Record 48 of Set 2 | port elizabeth\n",
      "Processing Record 49 of Set 2 | los llanos de aridane\n",
      "Processing Record 50 of Set 2 | castro\n",
      "Processing Record 0 of Set 3 | gat\n",
      "Processing Record 1 of Set 3 | coquimbo\n",
      "Processing Record 2 of Set 3 | enumclaw\n",
      "Processing Record 3 of Set 3 | attawapiskat\n",
      "City not found...Skipping\n",
      "Processing Record 4 of Set 3 | mehamn\n",
      "Processing Record 5 of Set 3 | batatais\n",
      "Processing Record 6 of Set 3 | ngara\n",
      "Processing Record 7 of Set 3 | tulun\n",
      "Processing Record 8 of Set 3 | puerto ayora\n",
      "Processing Record 9 of Set 3 | hilo\n",
      "Processing Record 10 of Set 3 | yueyang\n",
      "Processing Record 11 of Set 3 | albany\n",
      "Processing Record 12 of Set 3 | esmeraldas\n",
      "Processing Record 13 of Set 3 | kyshtovka\n",
      "Processing Record 14 of Set 3 | samusu\n",
      "City not found...Skipping\n",
      "Processing Record 15 of Set 3 | karoi\n",
      "Processing Record 16 of Set 3 | busselton\n",
      "Processing Record 17 of Set 3 | nikolskoye\n",
      "Processing Record 18 of Set 3 | berlevag\n",
      "Processing Record 19 of Set 3 | moree\n",
      "Processing Record 20 of Set 3 | ariquemes\n",
      "Processing Record 21 of Set 3 | grindavik\n",
      "Processing Record 22 of Set 3 | ouallam\n",
      "Processing Record 23 of Set 3 | bathsheba\n",
      "Processing Record 24 of Set 3 | asyut\n",
      "Processing Record 25 of Set 3 | louisbourg\n",
      "City not found...Skipping\n",
      "Processing Record 26 of Set 3 | sentyabrskiy\n",
      "City not found...Skipping\n",
      "Processing Record 27 of Set 3 | cape town\n",
      "Processing Record 28 of Set 3 | pevek\n",
      "Processing Record 29 of Set 3 | asau\n",
      "Processing Record 30 of Set 3 | nova olimpia\n",
      "Processing Record 31 of Set 3 | marzuq\n",
      "Processing Record 32 of Set 3 | dundee\n",
      "Processing Record 33 of Set 3 | chokurdakh\n",
      "Processing Record 34 of Set 3 | arman\n",
      "Processing Record 35 of Set 3 | tarudant\n",
      "City not found...Skipping\n",
      "Processing Record 36 of Set 3 | ahipara\n",
      "Processing Record 37 of Set 3 | bambous virieux\n",
      "Processing Record 38 of Set 3 | hambantota\n",
      "Processing Record 39 of Set 3 | arraial do cabo\n",
      "Processing Record 40 of Set 3 | zverinogolovskoye\n",
      "Processing Record 41 of Set 3 | tiksi\n",
      "Processing Record 42 of Set 3 | shimoda\n",
      "Processing Record 43 of Set 3 | madimba\n",
      "Processing Record 44 of Set 3 | tuktoyaktuk\n",
      "Processing Record 45 of Set 3 | hovd\n",
      "Processing Record 46 of Set 3 | north platte\n",
      "Processing Record 47 of Set 3 | new norfolk\n",
      "Processing Record 48 of Set 3 | tshela\n",
      "Processing Record 49 of Set 3 | saint-philippe\n",
      "Processing Record 50 of Set 3 | acajutla\n",
      "Processing Record 0 of Set 4 | ambilobe\n",
      "Processing Record 1 of Set 4 | kruisfontein\n",
      "Processing Record 2 of Set 4 | zilupe\n",
      "Processing Record 3 of Set 4 | vanimo\n",
      "Processing Record 4 of Set 4 | veraval\n",
      "Processing Record 5 of Set 4 | zhigansk\n",
      "Processing Record 6 of Set 4 | svetlogorsk\n",
      "Processing Record 7 of Set 4 | opuwo\n",
      "Processing Record 8 of Set 4 | chulym\n",
      "Processing Record 9 of Set 4 | solenzo\n",
      "Processing Record 10 of Set 4 | grand river south east\n",
      "City not found...Skipping\n",
      "Processing Record 11 of Set 4 | okha\n",
      "Processing Record 12 of Set 4 | axim\n",
      "Processing Record 13 of Set 4 | belyy yar\n",
      "Processing Record 14 of Set 4 | gamba\n",
      "Processing Record 15 of Set 4 | todos santos\n",
      "Processing Record 16 of Set 4 | talnakh\n",
      "Processing Record 17 of Set 4 | rockport\n",
      "Processing Record 18 of Set 4 | general pico\n",
      "Processing Record 19 of Set 4 | illoqqortoormiut\n",
      "City not found...Skipping\n",
      "Processing Record 20 of Set 4 | hithadhoo\n",
      "Processing Record 21 of Set 4 | cervo\n",
      "Processing Record 22 of Set 4 | cabo san lucas\n",
      "Processing Record 23 of Set 4 | pinheiro machado\n",
      "Processing Record 24 of Set 4 | dunedin\n",
      "Processing Record 25 of Set 4 | naryan-mar\n",
      "Processing Record 26 of Set 4 | karlskrona\n",
      "Processing Record 27 of Set 4 | swan river\n",
      "Processing Record 28 of Set 4 | joshimath\n",
      "Processing Record 29 of Set 4 | redmond\n",
      "Processing Record 30 of Set 4 | bluff\n",
      "Processing Record 31 of Set 4 | gladstone\n",
      "Processing Record 32 of Set 4 | darovskoy\n",
      "Processing Record 33 of Set 4 | riverton\n",
      "Processing Record 34 of Set 4 | vardo\n",
      "Processing Record 35 of Set 4 | upernavik\n",
      "Processing Record 36 of Set 4 | alofi\n"
     ]
    },
    {
     "name": "stdout",
     "output_type": "stream",
     "text": [
      "Processing Record 37 of Set 4 | norman wells\n",
      "Processing Record 38 of Set 4 | matara\n",
      "Processing Record 39 of Set 4 | malakal\n",
      "Processing Record 40 of Set 4 | say\n",
      "Processing Record 41 of Set 4 | pangody\n",
      "Processing Record 42 of Set 4 | balaka\n",
      "Processing Record 43 of Set 4 | avarua\n",
      "Processing Record 44 of Set 4 | pathein\n",
      "Processing Record 45 of Set 4 | long beach\n",
      "Processing Record 46 of Set 4 | tsihombe\n",
      "City not found...Skipping\n",
      "Processing Record 47 of Set 4 | hasaki\n",
      "Processing Record 48 of Set 4 | correntina\n",
      "Processing Record 49 of Set 4 | gilazi\n",
      "City not found...Skipping\n",
      "Processing Record 50 of Set 4 | yining\n",
      "Processing Record 0 of Set 5 | constitucion\n",
      "Processing Record 1 of Set 5 | barela\n",
      "Processing Record 2 of Set 5 | ribeira grande\n",
      "Processing Record 3 of Set 5 | bochov\n",
      "Processing Record 4 of Set 5 | palabuhanratu\n",
      "City not found...Skipping\n",
      "Processing Record 5 of Set 5 | astoria\n",
      "Processing Record 6 of Set 5 | north bend\n",
      "Processing Record 7 of Set 5 | zhicheng\n",
      "Processing Record 8 of Set 5 | ca mau\n",
      "Processing Record 9 of Set 5 | palmer\n",
      "Processing Record 10 of Set 5 | adamas\n",
      "Processing Record 11 of Set 5 | port hedland\n",
      "Processing Record 12 of Set 5 | khonuu\n",
      "City not found...Skipping\n",
      "Processing Record 13 of Set 5 | sorong\n",
      "Processing Record 14 of Set 5 | faanui\n",
      "Processing Record 15 of Set 5 | isla vista\n",
      "Processing Record 16 of Set 5 | altamira\n",
      "Processing Record 17 of Set 5 | chifeng\n",
      "Processing Record 18 of Set 5 | ejura\n",
      "Processing Record 19 of Set 5 | teahupoo\n",
      "Processing Record 20 of Set 5 | lowestoft\n",
      "Processing Record 21 of Set 5 | honningsvag\n",
      "Processing Record 22 of Set 5 | mlalo\n",
      "Processing Record 23 of Set 5 | puerto escondido\n",
      "Processing Record 24 of Set 5 | saskylakh\n",
      "Processing Record 25 of Set 5 | biak\n",
      "Processing Record 26 of Set 5 | imeni poliny osipenko\n",
      "Processing Record 27 of Set 5 | agsu\n",
      "City not found...Skipping\n",
      "Processing Record 28 of Set 5 | lensk\n",
      "Processing Record 29 of Set 5 | saleaula\n",
      "City not found...Skipping\n",
      "Processing Record 30 of Set 5 | acapulco\n",
      "Processing Record 31 of Set 5 | presidencia roque saenz pena\n",
      "Processing Record 32 of Set 5 | sinnamary\n",
      "Processing Record 33 of Set 5 | gizo\n",
      "Processing Record 34 of Set 5 | hobart\n",
      "Processing Record 35 of Set 5 | bontang\n",
      "Processing Record 36 of Set 5 | lanzhou\n",
      "Processing Record 37 of Set 5 | portland\n",
      "Processing Record 38 of Set 5 | tasiilaq\n",
      "Processing Record 39 of Set 5 | barra do garcas\n",
      "Processing Record 40 of Set 5 | sao filipe\n",
      "Processing Record 41 of Set 5 | hamilton\n",
      "Processing Record 42 of Set 5 | nouadhibou\n",
      "Processing Record 43 of Set 5 | tabou\n",
      "Processing Record 44 of Set 5 | dong hoi\n",
      "Processing Record 45 of Set 5 | katubao\n",
      "Processing Record 46 of Set 5 | aklavik\n",
      "Processing Record 47 of Set 5 | bethanien\n",
      "Processing Record 48 of Set 5 | severo-kurilsk\n",
      "Processing Record 49 of Set 5 | severobaykalsk\n",
      "Processing Record 50 of Set 5 | road town\n",
      "Processing Record 0 of Set 6 | baykit\n",
      "Processing Record 1 of Set 6 | kuching\n",
      "Processing Record 2 of Set 6 | dingle\n",
      "Processing Record 3 of Set 6 | qiyang\n",
      "Processing Record 4 of Set 6 | amderma\n",
      "City not found...Skipping\n",
      "Processing Record 5 of Set 6 | kloulklubed\n",
      "Processing Record 6 of Set 6 | yirol\n",
      "City not found...Skipping\n",
      "Processing Record 7 of Set 6 | bedele\n",
      "Processing Record 8 of Set 6 | sompeta\n",
      "Processing Record 9 of Set 6 | huescar\n",
      "Processing Record 10 of Set 6 | dolbeau\n",
      "City not found...Skipping\n",
      "Processing Record 11 of Set 6 | san jose\n",
      "Processing Record 12 of Set 6 | meulaboh\n",
      "Processing Record 13 of Set 6 | halalo\n",
      "City not found...Skipping\n",
      "Processing Record 14 of Set 6 | emerald\n",
      "Processing Record 15 of Set 6 | skalistyy\n",
      "City not found...Skipping\n",
      "Processing Record 16 of Set 6 | rawson\n",
      "Processing Record 17 of Set 6 | pitimbu\n",
      "Processing Record 18 of Set 6 | askarovo\n",
      "Processing Record 19 of Set 6 | eyrarbakki\n",
      "Processing Record 20 of Set 6 | maragogi\n",
      "Processing Record 21 of Set 6 | tromso\n",
      "Processing Record 22 of Set 6 | graham\n",
      "Processing Record 23 of Set 6 | bengkulu\n",
      "Processing Record 24 of Set 6 | shache\n",
      "Processing Record 25 of Set 6 | kaitangata\n",
      "Processing Record 26 of Set 6 | porto walter\n",
      "Processing Record 27 of Set 6 | carikar\n",
      "City not found...Skipping\n",
      "Processing Record 28 of Set 6 | luderitz\n",
      "Processing Record 29 of Set 6 | tabiauea\n",
      "City not found...Skipping\n",
      "Processing Record 30 of Set 6 | khor\n",
      "Processing Record 31 of Set 6 | samarai\n",
      "Processing Record 32 of Set 6 | broome\n",
      "Processing Record 33 of Set 6 | kodiak\n",
      "Processing Record 34 of Set 6 | zhangye\n",
      "Processing Record 35 of Set 6 | joensuu\n",
      "Processing Record 36 of Set 6 | chitral\n",
      "Processing Record 37 of Set 6 | vao\n",
      "Processing Record 38 of Set 6 | bereznehuvate\n",
      "Processing Record 39 of Set 6 | nesbyen\n",
      "Processing Record 40 of Set 6 | paamiut\n",
      "Processing Record 41 of Set 6 | lewisporte\n",
      "Processing Record 42 of Set 6 | barsovo\n",
      "Processing Record 43 of Set 6 | yima\n",
      "Processing Record 44 of Set 6 | coihaique\n",
      "Processing Record 45 of Set 6 | ponta do sol\n",
      "Processing Record 46 of Set 6 | pangnirtung\n",
      "Processing Record 47 of Set 6 | katherine\n",
      "Processing Record 48 of Set 6 | sorland\n",
      "Processing Record 49 of Set 6 | nizhneyansk\n",
      "City not found...Skipping\n",
      "Processing Record 50 of Set 6 | palembang\n",
      "Processing Record 0 of Set 7 | savannah bight\n",
      "Processing Record 1 of Set 7 | susangerd\n",
      "Processing Record 2 of Set 7 | hollabrunn\n",
      "Processing Record 3 of Set 7 | haapiti\n",
      "Processing Record 4 of Set 7 | vestmannaeyjar\n",
      "Processing Record 5 of Set 7 | hami\n",
      "Processing Record 6 of Set 7 | barraute\n",
      "Processing Record 7 of Set 7 | san patricio\n",
      "Processing Record 8 of Set 7 | otradnoye\n",
      "Processing Record 9 of Set 7 | kawalu\n",
      "Processing Record 10 of Set 7 | katangli\n",
      "Processing Record 11 of Set 7 | shubarshi\n",
      "Processing Record 12 of Set 7 | marcona\n",
      "City not found...Skipping\n",
      "Processing Record 13 of Set 7 | kaa-khem\n",
      "Processing Record 14 of Set 7 | rosario\n",
      "Processing Record 15 of Set 7 | xining\n",
      "Processing Record 16 of Set 7 | bogorodskoye\n",
      "Processing Record 17 of Set 7 | kamenskoye\n",
      "City not found...Skipping\n",
      "Processing Record 18 of Set 7 | wuwei\n",
      "Processing Record 19 of Set 7 | ust-omchug\n",
      "Processing Record 20 of Set 7 | egvekinot\n",
      "Processing Record 21 of Set 7 | savannah\n",
      "Processing Record 22 of Set 7 | westport\n",
      "Processing Record 23 of Set 7 | acarau\n",
      "Processing Record 24 of Set 7 | marrakesh\n",
      "Processing Record 25 of Set 7 | elizabeth city\n",
      "Processing Record 26 of Set 7 | kavaratti\n",
      "Processing Record 27 of Set 7 | biltine\n",
      "Processing Record 28 of Set 7 | tallahassee\n",
      "Processing Record 29 of Set 7 | havre-saint-pierre\n",
      "Processing Record 30 of Set 7 | walvis bay\n",
      "Processing Record 31 of Set 7 | esik\n",
      "Processing Record 32 of Set 7 | araouane\n",
      "Processing Record 33 of Set 7 | itaquyry\n",
      "Processing Record 34 of Set 7 | pochutla\n",
      "Processing Record 35 of Set 7 | chuy\n",
      "Processing Record 36 of Set 7 | batemans bay\n",
      "Processing Record 37 of Set 7 | les cayes\n",
      "Processing Record 38 of Set 7 | pisco\n",
      "Processing Record 39 of Set 7 | sembe\n",
      "Processing Record 40 of Set 7 | petauke\n",
      "Processing Record 41 of Set 7 | san-pedro\n",
      "Processing Record 42 of Set 7 | yellowknife\n",
      "Processing Record 43 of Set 7 | sur\n",
      "Processing Record 44 of Set 7 | san policarpo\n",
      "Processing Record 45 of Set 7 | churapcha\n",
      "Processing Record 46 of Set 7 | burrel\n",
      "Processing Record 47 of Set 7 | itarema\n",
      "Processing Record 48 of Set 7 | juli\n",
      "Processing Record 49 of Set 7 | saint-francois\n",
      "Processing Record 50 of Set 7 | cayenne\n",
      "Processing Record 0 of Set 8 | ilulissat\n",
      "Processing Record 1 of Set 8 | anqiu\n",
      "Processing Record 2 of Set 8 | amapa\n",
      "Processing Record 3 of Set 8 | port hardy\n",
      "Processing Record 4 of Set 8 | lavrentiya\n",
      "Processing Record 5 of Set 8 | victoria\n",
      "Processing Record 6 of Set 8 | dharchula\n",
      "Processing Record 7 of Set 8 | cockburn town\n",
      "Processing Record 8 of Set 8 | warqla\n",
      "City not found...Skipping\n",
      "Processing Record 9 of Set 8 | ponnani\n",
      "Processing Record 10 of Set 8 | mahebourg\n",
      "Processing Record 11 of Set 8 | sao miguel do araguaia\n",
      "Processing Record 12 of Set 8 | soe\n",
      "Processing Record 13 of Set 8 | burnie\n",
      "Processing Record 14 of Set 8 | vaitupu\n",
      "City not found...Skipping\n",
      "Processing Record 15 of Set 8 | hobyo\n",
      "Processing Record 16 of Set 8 | rovaniemi\n",
      "Processing Record 17 of Set 8 | yomou\n",
      "Processing Record 18 of Set 8 | san andres\n",
      "Processing Record 19 of Set 8 | north battleford\n",
      "Processing Record 20 of Set 8 | dwarka\n",
      "Processing Record 21 of Set 8 | hukuntsi\n"
     ]
    },
    {
     "name": "stdout",
     "output_type": "stream",
     "text": [
      "Processing Record 22 of Set 8 | te anau\n",
      "Processing Record 23 of Set 8 | guerrero negro\n",
      "Processing Record 24 of Set 8 | nantucket\n",
      "Processing Record 25 of Set 8 | prince rupert\n",
      "Processing Record 26 of Set 8 | sitka\n",
      "Processing Record 27 of Set 8 | tyler\n",
      "Processing Record 28 of Set 8 | korla\n",
      "Processing Record 29 of Set 8 | karkaralinsk\n",
      "City not found...Skipping\n",
      "Processing Record 30 of Set 8 | port blair\n",
      "Processing Record 31 of Set 8 | tiznit\n",
      "Processing Record 32 of Set 8 | khani\n",
      "Processing Record 33 of Set 8 | georgetown\n",
      "Processing Record 34 of Set 8 | porto novo\n",
      "Processing Record 35 of Set 8 | poum\n",
      "Processing Record 36 of Set 8 | rena\n",
      "Processing Record 37 of Set 8 | lenger\n",
      "Processing Record 38 of Set 8 | lebyazhye\n",
      "Processing Record 39 of Set 8 | vilcun\n",
      "Processing Record 40 of Set 8 | goderich\n",
      "Processing Record 41 of Set 8 | labutta\n",
      "City not found...Skipping\n",
      "Processing Record 42 of Set 8 | guacimo\n",
      "Processing Record 43 of Set 8 | longyearbyen\n",
      "Processing Record 44 of Set 8 | bethel\n",
      "Processing Record 45 of Set 8 | tashtyp\n",
      "Processing Record 46 of Set 8 | ust-koksa\n",
      "Processing Record 47 of Set 8 | yenagoa\n",
      "Processing Record 48 of Set 8 | souillac\n",
      "Processing Record 49 of Set 8 | san felipe\n",
      "Processing Record 50 of Set 8 | talaya\n",
      "Processing Record 0 of Set 9 | jalpan\n",
      "Processing Record 1 of Set 9 | abu kamal\n",
      "Processing Record 2 of Set 9 | hingatungan\n",
      "Processing Record 3 of Set 9 | alexandria\n",
      "Processing Record 4 of Set 9 | eldikan\n",
      "City not found...Skipping\n",
      "Processing Record 5 of Set 9 | tooele\n",
      "Processing Record 6 of Set 9 | velizh\n",
      "Processing Record 7 of Set 9 | oyama\n",
      "Processing Record 8 of Set 9 | mandurah\n",
      "Processing Record 9 of Set 9 | kintampo\n",
      "Processing Record 10 of Set 9 | karabulak\n",
      "Processing Record 11 of Set 9 | faya\n",
      "Processing Record 12 of Set 9 | bowen\n",
      "Processing Record 13 of Set 9 | puerto penasco\n",
      "Processing Record 14 of Set 9 | conde\n",
      "Processing Record 15 of Set 9 | yulara\n",
      "Processing Record 16 of Set 9 | larsnes\n",
      "Processing Record 17 of Set 9 | najran\n",
      "Processing Record 18 of Set 9 | rabo de peixe\n",
      "Processing Record 19 of Set 9 | ballitoville\n",
      "Processing Record 20 of Set 9 | saint leonard\n",
      "Processing Record 21 of Set 9 | canberra\n",
      "Processing Record 22 of Set 9 | bukoba\n",
      "Processing Record 23 of Set 9 | tshikapa\n",
      "Processing Record 24 of Set 9 | parakai\n",
      "Processing Record 25 of Set 9 | kiunga\n",
      "Processing Record 26 of Set 9 | wulanhaote\n",
      "City not found...Skipping\n",
      "Processing Record 27 of Set 9 | henties bay\n",
      "Processing Record 28 of Set 9 | upata\n",
      "Processing Record 29 of Set 9 | narsaq\n",
      "Processing Record 30 of Set 9 | gorontalo\n",
      "Processing Record 31 of Set 9 | port-gentil\n",
      "Processing Record 32 of Set 9 | nyuksenitsa\n",
      "Processing Record 33 of Set 9 | nehe\n",
      "Processing Record 34 of Set 9 | pringsewu\n",
      "Processing Record 35 of Set 9 | teknaf\n",
      "Processing Record 36 of Set 9 | xuddur\n",
      "Processing Record 37 of Set 9 | burkhala\n",
      "City not found...Skipping\n",
      "Processing Record 38 of Set 9 | kafue\n",
      "Processing Record 39 of Set 9 | leningradskiy\n",
      "Processing Record 40 of Set 9 | half moon bay\n",
      "Processing Record 41 of Set 9 | vernon\n",
      "Processing Record 42 of Set 9 | yagoua\n",
      "Processing Record 43 of Set 9 | abu jubayhah\n",
      "City not found...Skipping\n",
      "Processing Record 44 of Set 9 | hirara\n",
      "Processing Record 45 of Set 9 | tura\n",
      "Processing Record 46 of Set 9 | ongandjera\n",
      "Processing Record 47 of Set 9 | voyvozh\n",
      "Processing Record 48 of Set 9 | miyazu\n",
      "Processing Record 49 of Set 9 | evans\n",
      "Processing Record 50 of Set 9 | haines junction\n",
      "Processing Record 0 of Set 10 | srednekolymsk\n",
      "Processing Record 1 of Set 10 | oussouye\n",
      "Processing Record 2 of Set 10 | shibetsu\n",
      "Processing Record 3 of Set 10 | levelland\n",
      "Processing Record 4 of Set 10 | sandwick\n",
      "Processing Record 5 of Set 10 | kigoma\n",
      "Processing Record 6 of Set 10 | waipawa\n",
      "Processing Record 7 of Set 10 | mareeba\n",
      "Processing Record 8 of Set 10 | tupik\n",
      "Processing Record 9 of Set 10 | lamu\n",
      "Processing Record 10 of Set 10 | quelimane\n",
      "Processing Record 11 of Set 10 | cidreira\n",
      "Processing Record 12 of Set 10 | perpignan\n",
      "Processing Record 13 of Set 10 | kabo\n",
      "Processing Record 14 of Set 10 | udon thani\n",
      "Processing Record 15 of Set 10 | safwah\n",
      "City not found...Skipping\n",
      "Processing Record 16 of Set 10 | avera\n",
      "Processing Record 17 of Set 10 | kalengwa\n",
      "Processing Record 18 of Set 10 | mogadishu\n",
      "Processing Record 19 of Set 10 | harnosand\n",
      "Processing Record 20 of Set 10 | glossa\n",
      "Processing Record 21 of Set 10 | manacapuru\n",
      "Processing Record 22 of Set 10 | comodoro rivadavia\n",
      "Processing Record 23 of Set 10 | waitati\n",
      "Processing Record 24 of Set 10 | inirida\n",
      "Processing Record 25 of Set 10 | kula\n",
      "Processing Record 26 of Set 10 | parkes\n",
      "Processing Record 27 of Set 10 | uige\n",
      "Processing Record 28 of Set 10 | toba\n",
      "Processing Record 29 of Set 10 | samarinda\n",
      "Processing Record 30 of Set 10 | homer\n",
      "Processing Record 31 of Set 10 | yangjiang\n",
      "Processing Record 32 of Set 10 | chengde\n",
      "Processing Record 33 of Set 10 | fukuma\n",
      "Processing Record 34 of Set 10 | ixtapa\n",
      "Processing Record 35 of Set 10 | okato\n",
      "Processing Record 36 of Set 10 | amalapuram\n",
      "Processing Record 37 of Set 10 | zyryanka\n",
      "Processing Record 38 of Set 10 | kuche\n",
      "City not found...Skipping\n",
      "Processing Record 39 of Set 10 | trincomalee\n",
      "Processing Record 40 of Set 10 | omboue\n",
      "Processing Record 41 of Set 10 | cape canaveral\n",
      "Processing Record 42 of Set 10 | college\n",
      "Processing Record 43 of Set 10 | apache junction\n",
      "Processing Record 44 of Set 10 | lorengau\n",
      "Processing Record 45 of Set 10 | thyboron\n",
      "Processing Record 46 of Set 10 | mandalgovi\n",
      "Processing Record 47 of Set 10 | kupang\n",
      "Processing Record 48 of Set 10 | tamandare\n",
      "Processing Record 49 of Set 10 | komsomolskiy\n",
      "Processing Record 50 of Set 10 | xiuyan\n",
      "Processing Record 0 of Set 11 | mont-de-marsan\n",
      "Processing Record 1 of Set 11 | oxbow\n",
      "Processing Record 2 of Set 11 | ijaki\n",
      "City not found...Skipping\n",
      "Processing Record 3 of Set 11 | lompoc\n",
      "Processing Record 4 of Set 11 | paita\n",
      "Processing Record 5 of Set 11 | taunggyi\n",
      "Processing Record 6 of Set 11 | klaksvik\n",
      "Processing Record 7 of Set 11 | smithers\n",
      "Processing Record 8 of Set 11 | harrisonburg\n",
      "Processing Record 9 of Set 11 | fairbanks\n",
      "Processing Record 10 of Set 11 | karlstad\n",
      "Processing Record 11 of Set 11 | mitsamiouli\n",
      "Processing Record 12 of Set 11 | qasigiannguit\n",
      "Processing Record 13 of Set 11 | chumikan\n",
      "Processing Record 14 of Set 11 | tambopata\n",
      "Processing Record 15 of Set 11 | lermontovka\n",
      "Processing Record 16 of Set 11 | warrington\n",
      "Processing Record 17 of Set 11 | wadi musa\n",
      "Processing Record 18 of Set 11 | sao joao da barra\n",
      "Processing Record 19 of Set 11 | grand gaube\n",
      "Processing Record 20 of Set 11 | chapais\n",
      "Processing Record 21 of Set 11 | togur\n",
      "Processing Record 22 of Set 11 | ust-ishim\n",
      "Processing Record 23 of Set 11 | tessalit\n",
      "Processing Record 24 of Set 11 | tsentralnyy\n",
      "City not found...Skipping\n",
      "Processing Record 25 of Set 11 | torbay\n",
      "Processing Record 26 of Set 11 | adre\n",
      "Processing Record 27 of Set 11 | caravelas\n",
      "Processing Record 28 of Set 11 | batticaloa\n",
      "Processing Record 29 of Set 11 | saint anthony\n",
      "Processing Record 30 of Set 11 | alice springs\n",
      "Processing Record 31 of Set 11 | ust-bolsheretsk\n",
      "City not found...Skipping\n",
      "Processing Record 32 of Set 11 | fort-shevchenko\n",
      "Processing Record 33 of Set 11 | labuhan\n",
      "Processing Record 34 of Set 11 | okhotsk\n",
      "Processing Record 35 of Set 11 | new amsterdam\n",
      "Processing Record 36 of Set 11 | laguna\n",
      "Processing Record 37 of Set 11 | turmalina\n",
      "Processing Record 38 of Set 11 | lahij\n",
      "Processing Record 39 of Set 11 | tigil\n",
      "Processing Record 40 of Set 11 | fontem\n",
      "Processing Record 41 of Set 11 | dedougou\n",
      "Processing Record 42 of Set 11 | adrar\n",
      "Processing Record 43 of Set 11 | moyale\n",
      "Processing Record 44 of Set 11 | baracoa\n",
      "Processing Record 45 of Set 11 | linfen\n",
      "Processing Record 46 of Set 11 | delmiro gouveia\n",
      "Processing Record 47 of Set 11 | shkotovo-26\n",
      "City not found...Skipping\n",
      "Processing Record 48 of Set 11 | puerto narino\n",
      "Processing Record 49 of Set 11 | taua\n",
      "Processing Record 50 of Set 11 | medea\n",
      "Processing Record 0 of Set 12 | bambamarca\n",
      "Processing Record 1 of Set 12 | fare\n",
      "Processing Record 2 of Set 12 | kholodnyy\n",
      "Processing Record 3 of Set 12 | qaqortoq\n",
      "Processing Record 4 of Set 12 | altay\n",
      "Processing Record 5 of Set 12 | bilibino\n",
      "Processing Record 6 of Set 12 | pasni\n",
      "Processing Record 7 of Set 12 | berea\n",
      "Processing Record 8 of Set 12 | niagara falls\n"
     ]
    },
    {
     "name": "stdout",
     "output_type": "stream",
     "text": [
      "Processing Record 9 of Set 12 | gazanjyk\n",
      "Processing Record 10 of Set 12 | shelburne\n",
      "Processing Record 11 of Set 12 | fairview\n",
      "Processing Record 12 of Set 12 | malanje\n",
      "Processing Record 13 of Set 12 | namibe\n",
      "Processing Record 14 of Set 12 | teguise\n",
      "Processing Record 15 of Set 12 | davila\n",
      "Processing Record 16 of Set 12 | tucano\n",
      "Processing Record 17 of Set 12 | barbar\n",
      "City not found...Skipping\n",
      "Processing Record 18 of Set 12 | dengzhou\n",
      "Processing Record 19 of Set 12 | lubao\n",
      "Processing Record 20 of Set 12 | pokaran\n",
      "Processing Record 21 of Set 12 | galiwinku\n",
      "City not found...Skipping\n",
      "Processing Record 22 of Set 12 | south sioux city\n",
      "Processing Record 23 of Set 12 | tosya\n",
      "Processing Record 24 of Set 12 | nioro\n",
      "Processing Record 25 of Set 12 | sao miguel\n",
      "Processing Record 26 of Set 12 | canon city\n",
      "Processing Record 27 of Set 12 | virginia beach\n",
      "Processing Record 28 of Set 12 | teya\n",
      "Processing Record 29 of Set 12 | birin\n",
      "Processing Record 30 of Set 12 | atar\n",
      "Processing Record 31 of Set 12 | aspe\n",
      "Processing Record 32 of Set 12 | broken hill\n",
      "Processing Record 33 of Set 12 | goksun\n",
      "Processing Record 34 of Set 12 | banda aceh\n",
      "Processing Record 35 of Set 12 | havoysund\n",
      "Processing Record 36 of Set 12 | bud\n",
      "Processing Record 37 of Set 12 | beloha\n",
      "Processing Record 38 of Set 12 | martapura\n",
      "Processing Record 39 of Set 12 | mpraeso\n",
      "Processing Record 40 of Set 12 | pimentel\n",
      "Processing Record 41 of Set 12 | rypefjord\n",
      "Processing Record 42 of Set 12 | juegang\n",
      "-----------------------------\n",
      "Data Retrieval Complete\n",
      "-----------------------------\n"
     ]
    }
   ],
   "source": [
    "# Lists of the city characteristics\n",
    "# Retrieve all information from the Web into lists\n",
    "\n",
    "city_id = []\n",
    "city_name = []\n",
    "city_latitude = []\n",
    "city_longitude = []\n",
    "city_country = []\n",
    "city_temperature = []\n",
    "city_max_temperature = []\n",
    "city_humidity = []\n",
    "city_cloudiness = []\n",
    "city_wind_speed = []\n",
    "\n",
    "# Set count and city count\n",
    "city_number = 1\n",
    "city_set = 1\n",
    "\n",
    "print(\"Beginning Data Retrieval\")\n",
    "print(\"-----------------------------\")\n",
    "\n",
    "for city in cities:\n",
    "    try:\n",
    "        response_weather = requests.get(query_url + city).json()\n",
    "        print(f\"Processing Record {city_number} of Set {city_set} | {city}\")\n",
    "        # city_name\n",
    "        city_name.append(response_weather[\"name\"])\n",
    "        # city_id\n",
    "        city_id.append(response_weather[\"id\"])\n",
    "        # longitude\n",
    "        city_longitude.append(response_weather[\"coord\"][\"lon\"])\n",
    "        # latitude\n",
    "        city_latitude.append(response_weather[\"coord\"][\"lat\"])\n",
    "        # country\n",
    "        city_country.append(response_weather[\"sys\"][\"country\"])\n",
    "        # temperature\n",
    "        city_temperature.append(response_weather[\"main\"][\"temp\"])\n",
    "        # max temperature\n",
    "        city_max_temperature.append(response_weather[\"main\"][\"temp_max\"])\n",
    "        # humidity\n",
    "        city_humidity.append(response_weather[\"main\"][\"humidity\"])\n",
    "        # cloudiness\n",
    "        city_cloudiness.append(response_weather[\"clouds\"][\"all\"])\n",
    "        # wind_speed\n",
    "        city_wind_speed.append(response_weather[\"wind\"][\"speed\"])\n",
    "        \n",
    "    except (KeyError, IndexError):\n",
    "        print(\"City not found...Skipping\")\n",
    "        \n",
    "    city_number += 1\n",
    "    \n",
    "    if city_number == 51:\n",
    "        city_number = 0\n",
    "        city_set += 1\n",
    "\n",
    "print(\"-----------------------------\")\n",
    "print(\"Data Retrieval Complete\")\n",
    "print(\"-----------------------------\")\n"
   ]
  },
  {
   "cell_type": "code",
   "execution_count": 49,
   "metadata": {},
   "outputs": [
    {
     "name": "stdout",
     "output_type": "stream",
     "text": [
      "There are 12 city sets\n"
     ]
    }
   ],
   "source": [
    "print(f\"There are {city_set} city sets\")"
   ]
  },
  {
   "cell_type": "code",
   "execution_count": 50,
   "metadata": {},
   "outputs": [
    {
     "data": {
      "text/html": [
       "<div>\n",
       "<style scoped>\n",
       "    .dataframe tbody tr th:only-of-type {\n",
       "        vertical-align: middle;\n",
       "    }\n",
       "\n",
       "    .dataframe tbody tr th {\n",
       "        vertical-align: top;\n",
       "    }\n",
       "\n",
       "    .dataframe thead th {\n",
       "        text-align: right;\n",
       "    }\n",
       "</style>\n",
       "<table border=\"1\" class=\"dataframe\">\n",
       "  <thead>\n",
       "    <tr style=\"text-align: right;\">\n",
       "      <th></th>\n",
       "      <th>City ID</th>\n",
       "      <th>City Name</th>\n",
       "      <th>Country</th>\n",
       "      <th>City Latitude</th>\n",
       "      <th>City Longitude</th>\n",
       "      <th>City Temperature</th>\n",
       "      <th>City Max Temperature</th>\n",
       "      <th>City Humidity</th>\n",
       "      <th>City Cloudiness</th>\n",
       "      <th>City Wind Speed</th>\n",
       "    </tr>\n",
       "  </thead>\n",
       "  <tbody>\n",
       "    <tr>\n",
       "      <th>0</th>\n",
       "      <td>3450909</td>\n",
       "      <td>Rondonópolis</td>\n",
       "      <td>BR</td>\n",
       "      <td>-16.4708</td>\n",
       "      <td>-54.6356</td>\n",
       "      <td>92.28</td>\n",
       "      <td>92.28</td>\n",
       "      <td>23</td>\n",
       "      <td>100</td>\n",
       "      <td>5.17</td>\n",
       "    </tr>\n",
       "    <tr>\n",
       "      <th>1</th>\n",
       "      <td>1650232</td>\n",
       "      <td>Banjar</td>\n",
       "      <td>ID</td>\n",
       "      <td>-8.1900</td>\n",
       "      <td>114.9675</td>\n",
       "      <td>80.60</td>\n",
       "      <td>80.60</td>\n",
       "      <td>94</td>\n",
       "      <td>20</td>\n",
       "      <td>6.91</td>\n",
       "    </tr>\n",
       "    <tr>\n",
       "      <th>2</th>\n",
       "      <td>4020109</td>\n",
       "      <td>Atuona</td>\n",
       "      <td>PF</td>\n",
       "      <td>-9.8000</td>\n",
       "      <td>-139.0333</td>\n",
       "      <td>78.64</td>\n",
       "      <td>78.64</td>\n",
       "      <td>75</td>\n",
       "      <td>27</td>\n",
       "      <td>7.23</td>\n",
       "    </tr>\n",
       "    <tr>\n",
       "      <th>3</th>\n",
       "      <td>1154689</td>\n",
       "      <td>Ko Samui</td>\n",
       "      <td>TH</td>\n",
       "      <td>9.5357</td>\n",
       "      <td>99.9357</td>\n",
       "      <td>83.46</td>\n",
       "      <td>83.46</td>\n",
       "      <td>71</td>\n",
       "      <td>100</td>\n",
       "      <td>3.89</td>\n",
       "    </tr>\n",
       "    <tr>\n",
       "      <th>4</th>\n",
       "      <td>770425</td>\n",
       "      <td>Janów Lubelski</td>\n",
       "      <td>PL</td>\n",
       "      <td>50.7070</td>\n",
       "      <td>22.4104</td>\n",
       "      <td>60.98</td>\n",
       "      <td>63.00</td>\n",
       "      <td>64</td>\n",
       "      <td>100</td>\n",
       "      <td>5.99</td>\n",
       "    </tr>\n",
       "    <tr>\n",
       "      <th>...</th>\n",
       "      <td>...</td>\n",
       "      <td>...</td>\n",
       "      <td>...</td>\n",
       "      <td>...</td>\n",
       "      <td>...</td>\n",
       "      <td>...</td>\n",
       "      <td>...</td>\n",
       "      <td>...</td>\n",
       "      <td>...</td>\n",
       "      <td>...</td>\n",
       "    </tr>\n",
       "    <tr>\n",
       "      <th>552</th>\n",
       "      <td>1636022</td>\n",
       "      <td>Martapura</td>\n",
       "      <td>ID</td>\n",
       "      <td>-3.4167</td>\n",
       "      <td>114.8500</td>\n",
       "      <td>77.00</td>\n",
       "      <td>77.00</td>\n",
       "      <td>100</td>\n",
       "      <td>90</td>\n",
       "      <td>1.14</td>\n",
       "    </tr>\n",
       "    <tr>\n",
       "      <th>553</th>\n",
       "      <td>2297834</td>\n",
       "      <td>Mpraeso</td>\n",
       "      <td>GH</td>\n",
       "      <td>6.5932</td>\n",
       "      <td>-0.7346</td>\n",
       "      <td>86.95</td>\n",
       "      <td>86.95</td>\n",
       "      <td>49</td>\n",
       "      <td>100</td>\n",
       "      <td>5.66</td>\n",
       "    </tr>\n",
       "    <tr>\n",
       "      <th>554</th>\n",
       "      <td>3693584</td>\n",
       "      <td>Pimentel</td>\n",
       "      <td>PE</td>\n",
       "      <td>-6.8367</td>\n",
       "      <td>-79.9342</td>\n",
       "      <td>70.84</td>\n",
       "      <td>75.20</td>\n",
       "      <td>60</td>\n",
       "      <td>0</td>\n",
       "      <td>8.05</td>\n",
       "    </tr>\n",
       "    <tr>\n",
       "      <th>555</th>\n",
       "      <td>847634</td>\n",
       "      <td>Rypefjord</td>\n",
       "      <td>NO</td>\n",
       "      <td>70.6333</td>\n",
       "      <td>23.6667</td>\n",
       "      <td>28.40</td>\n",
       "      <td>28.40</td>\n",
       "      <td>80</td>\n",
       "      <td>75</td>\n",
       "      <td>16.11</td>\n",
       "    </tr>\n",
       "    <tr>\n",
       "      <th>556</th>\n",
       "      <td>1804979</td>\n",
       "      <td>Juegang</td>\n",
       "      <td>CN</td>\n",
       "      <td>32.3174</td>\n",
       "      <td>121.1855</td>\n",
       "      <td>58.50</td>\n",
       "      <td>58.50</td>\n",
       "      <td>76</td>\n",
       "      <td>21</td>\n",
       "      <td>1.72</td>\n",
       "    </tr>\n",
       "  </tbody>\n",
       "</table>\n",
       "<p>557 rows × 10 columns</p>\n",
       "</div>"
      ],
      "text/plain": [
       "     City ID       City Name Country  City Latitude  City Longitude  \\\n",
       "0    3450909    Rondonópolis      BR       -16.4708        -54.6356   \n",
       "1    1650232          Banjar      ID        -8.1900        114.9675   \n",
       "2    4020109          Atuona      PF        -9.8000       -139.0333   \n",
       "3    1154689        Ko Samui      TH         9.5357         99.9357   \n",
       "4     770425  Janów Lubelski      PL        50.7070         22.4104   \n",
       "..       ...             ...     ...            ...             ...   \n",
       "552  1636022       Martapura      ID        -3.4167        114.8500   \n",
       "553  2297834         Mpraeso      GH         6.5932         -0.7346   \n",
       "554  3693584        Pimentel      PE        -6.8367        -79.9342   \n",
       "555   847634       Rypefjord      NO        70.6333         23.6667   \n",
       "556  1804979         Juegang      CN        32.3174        121.1855   \n",
       "\n",
       "     City Temperature  City Max Temperature  City Humidity  City Cloudiness  \\\n",
       "0               92.28                 92.28             23              100   \n",
       "1               80.60                 80.60             94               20   \n",
       "2               78.64                 78.64             75               27   \n",
       "3               83.46                 83.46             71              100   \n",
       "4               60.98                 63.00             64              100   \n",
       "..                ...                   ...            ...              ...   \n",
       "552             77.00                 77.00            100               90   \n",
       "553             86.95                 86.95             49              100   \n",
       "554             70.84                 75.20             60                0   \n",
       "555             28.40                 28.40             80               75   \n",
       "556             58.50                 58.50             76               21   \n",
       "\n",
       "     City Wind Speed  \n",
       "0               5.17  \n",
       "1               6.91  \n",
       "2               7.23  \n",
       "3               3.89  \n",
       "4               5.99  \n",
       "..               ...  \n",
       "552             1.14  \n",
       "553             5.66  \n",
       "554             8.05  \n",
       "555            16.11  \n",
       "556             1.72  \n",
       "\n",
       "[557 rows x 10 columns]"
      ]
     },
     "execution_count": 50,
     "metadata": {},
     "output_type": "execute_result"
    }
   ],
   "source": [
    "# Create Dataframe\n",
    "\n",
    "city_data = {'City ID':city_id,\n",
    "        'City Name': city_name,\n",
    "       'Country':city_country,\n",
    "       'City Latitude':city_latitude,\n",
    "       'City Longitude':city_longitude,\n",
    "       'City Temperature':city_temperature,\n",
    "       'City Max Temperature': city_max_temperature,\n",
    "       'City Humidity':city_humidity,\n",
    "       'City Cloudiness':city_cloudiness,\n",
    "       'City Wind Speed':city_wind_speed,}\n",
    "\n",
    "city_data_df = pd.DataFrame(city_data)\n",
    "city_data_df"
   ]
  },
  {
   "cell_type": "code",
   "execution_count": 51,
   "metadata": {},
   "outputs": [],
   "source": [
    "# Output File CSV\n",
    "\n",
    "# Save to a csv file\n",
    "city_data_df.to_csv(output_data_file, index = False)"
   ]
  },
  {
   "cell_type": "markdown",
   "metadata": {},
   "source": [
    "# Summary Statistics"
   ]
  },
  {
   "cell_type": "code",
   "execution_count": 52,
   "metadata": {},
   "outputs": [
    {
     "data": {
      "text/html": [
       "<div>\n",
       "<style scoped>\n",
       "    .dataframe tbody tr th:only-of-type {\n",
       "        vertical-align: middle;\n",
       "    }\n",
       "\n",
       "    .dataframe tbody tr th {\n",
       "        vertical-align: top;\n",
       "    }\n",
       "\n",
       "    .dataframe thead th {\n",
       "        text-align: right;\n",
       "    }\n",
       "</style>\n",
       "<table border=\"1\" class=\"dataframe\">\n",
       "  <thead>\n",
       "    <tr style=\"text-align: right;\">\n",
       "      <th></th>\n",
       "      <th>City ID</th>\n",
       "      <th>City Latitude</th>\n",
       "      <th>City Longitude</th>\n",
       "      <th>City Temperature</th>\n",
       "      <th>City Max Temperature</th>\n",
       "      <th>City Humidity</th>\n",
       "      <th>City Cloudiness</th>\n",
       "      <th>City Wind Speed</th>\n",
       "    </tr>\n",
       "  </thead>\n",
       "  <tbody>\n",
       "    <tr>\n",
       "      <th>count</th>\n",
       "      <td>5.570000e+02</td>\n",
       "      <td>557.000000</td>\n",
       "      <td>557.000000</td>\n",
       "      <td>557.000000</td>\n",
       "      <td>557.000000</td>\n",
       "      <td>557.000000</td>\n",
       "      <td>557.000000</td>\n",
       "      <td>557.000000</td>\n",
       "    </tr>\n",
       "    <tr>\n",
       "      <th>mean</th>\n",
       "      <td>2.751751e+06</td>\n",
       "      <td>19.690597</td>\n",
       "      <td>17.701276</td>\n",
       "      <td>63.232460</td>\n",
       "      <td>63.725458</td>\n",
       "      <td>68.834829</td>\n",
       "      <td>58.210054</td>\n",
       "      <td>7.430521</td>\n",
       "    </tr>\n",
       "    <tr>\n",
       "      <th>std</th>\n",
       "      <td>1.679285e+06</td>\n",
       "      <td>33.072852</td>\n",
       "      <td>90.923155</td>\n",
       "      <td>19.914552</td>\n",
       "      <td>19.939867</td>\n",
       "      <td>22.399287</td>\n",
       "      <td>36.649674</td>\n",
       "      <td>4.776354</td>\n",
       "    </tr>\n",
       "    <tr>\n",
       "      <th>min</th>\n",
       "      <td>4.974700e+04</td>\n",
       "      <td>-54.800000</td>\n",
       "      <td>-179.166700</td>\n",
       "      <td>0.930000</td>\n",
       "      <td>0.930000</td>\n",
       "      <td>1.000000</td>\n",
       "      <td>0.000000</td>\n",
       "      <td>0.180000</td>\n",
       "    </tr>\n",
       "    <tr>\n",
       "      <th>25%</th>\n",
       "      <td>1.582886e+06</td>\n",
       "      <td>-7.470600</td>\n",
       "      <td>-62.398900</td>\n",
       "      <td>50.000000</td>\n",
       "      <td>51.010000</td>\n",
       "      <td>55.000000</td>\n",
       "      <td>20.000000</td>\n",
       "      <td>3.620000</td>\n",
       "    </tr>\n",
       "    <tr>\n",
       "      <th>50%</th>\n",
       "      <td>2.246901e+06</td>\n",
       "      <td>22.075200</td>\n",
       "      <td>20.800000</td>\n",
       "      <td>66.200000</td>\n",
       "      <td>67.730000</td>\n",
       "      <td>73.000000</td>\n",
       "      <td>75.000000</td>\n",
       "      <td>6.440000</td>\n",
       "    </tr>\n",
       "    <tr>\n",
       "      <th>75%</th>\n",
       "      <td>3.663529e+06</td>\n",
       "      <td>47.173000</td>\n",
       "      <td>100.335400</td>\n",
       "      <td>78.530000</td>\n",
       "      <td>78.800000</td>\n",
       "      <td>87.000000</td>\n",
       "      <td>90.000000</td>\n",
       "      <td>10.360000</td>\n",
       "    </tr>\n",
       "    <tr>\n",
       "      <th>max</th>\n",
       "      <td>1.072286e+07</td>\n",
       "      <td>78.218600</td>\n",
       "      <td>178.416700</td>\n",
       "      <td>109.400000</td>\n",
       "      <td>109.400000</td>\n",
       "      <td>100.000000</td>\n",
       "      <td>100.000000</td>\n",
       "      <td>30.620000</td>\n",
       "    </tr>\n",
       "  </tbody>\n",
       "</table>\n",
       "</div>"
      ],
      "text/plain": [
       "            City ID  City Latitude  City Longitude  City Temperature  \\\n",
       "count  5.570000e+02     557.000000      557.000000        557.000000   \n",
       "mean   2.751751e+06      19.690597       17.701276         63.232460   \n",
       "std    1.679285e+06      33.072852       90.923155         19.914552   \n",
       "min    4.974700e+04     -54.800000     -179.166700          0.930000   \n",
       "25%    1.582886e+06      -7.470600      -62.398900         50.000000   \n",
       "50%    2.246901e+06      22.075200       20.800000         66.200000   \n",
       "75%    3.663529e+06      47.173000      100.335400         78.530000   \n",
       "max    1.072286e+07      78.218600      178.416700        109.400000   \n",
       "\n",
       "       City Max Temperature  City Humidity  City Cloudiness  City Wind Speed  \n",
       "count            557.000000     557.000000       557.000000       557.000000  \n",
       "mean              63.725458      68.834829        58.210054         7.430521  \n",
       "std               19.939867      22.399287        36.649674         4.776354  \n",
       "min                0.930000       1.000000         0.000000         0.180000  \n",
       "25%               51.010000      55.000000        20.000000         3.620000  \n",
       "50%               67.730000      73.000000        75.000000         6.440000  \n",
       "75%               78.800000      87.000000        90.000000        10.360000  \n",
       "max              109.400000     100.000000       100.000000        30.620000  "
      ]
     },
     "execution_count": 52,
     "metadata": {},
     "output_type": "execute_result"
    }
   ],
   "source": [
    "city_data_df.describe()"
   ]
  },
  {
   "cell_type": "markdown",
   "metadata": {},
   "source": [
    "# Inspect the data and remove the cities where the humidity > 100%."
   ]
  },
  {
   "cell_type": "code",
   "execution_count": 53,
   "metadata": {},
   "outputs": [],
   "source": [
    "max_humidity = city_data_df[\"City Humidity\"].max()"
   ]
  },
  {
   "cell_type": "code",
   "execution_count": 54,
   "metadata": {},
   "outputs": [
    {
     "name": "stdout",
     "output_type": "stream",
     "text": [
      "As the maximum humidity is 100, no removal was necessary\n"
     ]
    }
   ],
   "source": [
    "print(f\"As the maximum humidity is {max_humidity}, no removal was necessary\")"
   ]
  },
  {
   "cell_type": "markdown",
   "metadata": {},
   "source": [
    "# Plotting the Data"
   ]
  },
  {
   "cell_type": "markdown",
   "metadata": {},
   "source": [
    "Use proper labeling of the plots using plot titles (including date of analysis) and axes labels.\n",
    "Save the plotted figures as .pngs."
   ]
  },
  {
   "cell_type": "markdown",
   "metadata": {},
   "source": [
    "### Latitude vs Temperature Plot"
   ]
  },
  {
   "cell_type": "code",
   "execution_count": 55,
   "metadata": {},
   "outputs": [
    {
     "data": {
      "text/plain": [
       "Text(0, 0.5, 'Max Temperature (F)')"
      ]
     },
     "execution_count": 55,
     "metadata": {},
     "output_type": "execute_result"
    },
    {
     "data": {
      "image/png": "[encoded data removed]",
      "text/plain": [
       "<Figure size 432x288 with 1 Axes>"
      ]
     },
     "metadata": {
      "needs_background": "light"
     },
     "output_type": "display_data"
    }
   ],
   "source": [
    "plt.scatter(city_data_df[\"City Latitude\"],city_data_df[\"City Max Temperature\"])\n",
    "plt.grid()\n",
    "plt.title(\"City Latitude vs Max Temperature (29/04/2021)\")\n",
    "plt.xlabel(\"Latitude\")\n",
    "plt.ylabel(\"Max Temperature (F)\")"
   ]
  },
  {
   "cell_type": "markdown",
   "metadata": {},
   "source": [
    "### Latitude vs Humidity Plot"
   ]
  },
  {
   "cell_type": "code",
   "execution_count": 56,
   "metadata": {},
   "outputs": [
    {
     "data": {
      "text/plain": [
       "Text(0, 0.5, 'Humidity(%)')"
      ]
     },
     "execution_count": 56,
     "metadata": {},
     "output_type": "execute_result"
    },
    {
     "data": {
      "image/png": "[encoded data removed]",
      "text/plain": [
       "<Figure size 432x288 with 1 Axes>"
      ]
     },
     "metadata": {
      "needs_background": "light"
     },
     "output_type": "display_data"
    }
   ],
   "source": [
    "plt.scatter(city_data_df[\"City Latitude\"],city_data_df[\"City Humidity\"])\n",
    "plt.grid()\n",
    "plt.title(\"City Latitude vs Humidity (29/04/2021)\")\n",
    "plt.xlabel(\"Latitude\")\n",
    "plt.ylabel(\"Humidity(%)\")"
   ]
  },
  {
   "cell_type": "markdown",
   "metadata": {},
   "source": [
    "### Latitude vs Cloudiness Plot"
   ]
  },
  {
   "cell_type": "code",
   "execution_count": 57,
   "metadata": {},
   "outputs": [
    {
     "data": {
      "text/plain": [
       "Text(0, 0.5, 'Cloudiness(%)')"
      ]
     },
     "execution_count": 57,
     "metadata": {},
     "output_type": "execute_result"
    },
    {
     "data": {
      "image/png": "[encoded data removed]",
      "text/plain": [
       "<Figure size 432x288 with 1 Axes>"
      ]
     },
     "metadata": {
      "needs_background": "light"
     },
     "output_type": "display_data"
    }
   ],
   "source": [
    "plt.scatter(city_data_df[\"City Latitude\"], city_data_df[\"City Cloudiness\"])\n",
    "plt.grid()\n",
    "plt.title(\"City Latitude vs Cloudiness (29/04/2021) \")\n",
    "plt.xlabel(\"Latitude\")\n",
    "plt.ylabel(\"Cloudiness(%)\")"
   ]
  },
  {
   "cell_type": "markdown",
   "metadata": {},
   "source": [
    "### Latitude vs Wind Speed Plot"
   ]
  },
  {
   "cell_type": "code",
   "execution_count": 58,
   "metadata": {},
   "outputs": [
    {
     "data": {
      "text/plain": [
       "Text(0, 0.5, 'Wind Speed (mph)')"
      ]
     },
     "execution_count": 58,
     "metadata": {},
     "output_type": "execute_result"
    },
    {
     "data": {
      "image/png": "[encoded data removed]",
      "text/plain": [
       "<Figure size 432x288 with 1 Axes>"
      ]
     },
     "metadata": {
      "needs_background": "light"
     },
     "output_type": "display_data"
    }
   ],
   "source": [
    "plt.scatter(city_data_df[\"City Latitude\"], city_data_df[\"City Wind Speed\"])\n",
    "plt.grid()\n",
    "plt.title(\"City Latitude vs Wind Speed (29/04/2021)\")\n",
    "plt.xlabel(\"Latitude\")\n",
    "plt.ylabel(\"Wind Speed (mph)\")"
   ]
  },
  {
   "cell_type": "markdown",
   "metadata": {},
   "source": [
    "# Linear Regression"
   ]
  },
  {
   "cell_type": "markdown",
   "metadata": {},
   "source": [
    "### Divide DataFrame into Northern Hemisphere and Souther Hemisphere"
   ]
  },
  {
   "cell_type": "code",
   "execution_count": 59,
   "metadata": {},
   "outputs": [
    {
     "data": {
      "text/html": [
       "<div>\n",
       "<style scoped>\n",
       "    .dataframe tbody tr th:only-of-type {\n",
       "        vertical-align: middle;\n",
       "    }\n",
       "\n",
       "    .dataframe tbody tr th {\n",
       "        vertical-align: top;\n",
       "    }\n",
       "\n",
       "    .dataframe thead th {\n",
       "        text-align: right;\n",
       "    }\n",
       "</style>\n",
       "<table border=\"1\" class=\"dataframe\">\n",
       "  <thead>\n",
       "    <tr style=\"text-align: right;\">\n",
       "      <th></th>\n",
       "      <th>City ID</th>\n",
       "      <th>City Name</th>\n",
       "      <th>Country</th>\n",
       "      <th>City Latitude</th>\n",
       "      <th>City Longitude</th>\n",
       "      <th>City Temperature</th>\n",
       "      <th>City Max Temperature</th>\n",
       "      <th>City Humidity</th>\n",
       "      <th>City Cloudiness</th>\n",
       "      <th>City Wind Speed</th>\n",
       "    </tr>\n",
       "  </thead>\n",
       "  <tbody>\n",
       "    <tr>\n",
       "      <th>3</th>\n",
       "      <td>1154689</td>\n",
       "      <td>Ko Samui</td>\n",
       "      <td>TH</td>\n",
       "      <td>9.5357</td>\n",
       "      <td>99.9357</td>\n",
       "      <td>83.46</td>\n",
       "      <td>83.46</td>\n",
       "      <td>71</td>\n",
       "      <td>100</td>\n",
       "      <td>3.89</td>\n",
       "    </tr>\n",
       "    <tr>\n",
       "      <th>4</th>\n",
       "      <td>770425</td>\n",
       "      <td>Janów Lubelski</td>\n",
       "      <td>PL</td>\n",
       "      <td>50.7070</td>\n",
       "      <td>22.4104</td>\n",
       "      <td>60.98</td>\n",
       "      <td>63.00</td>\n",
       "      <td>64</td>\n",
       "      <td>100</td>\n",
       "      <td>5.99</td>\n",
       "    </tr>\n",
       "    <tr>\n",
       "      <th>8</th>\n",
       "      <td>1162634</td>\n",
       "      <td>Wana</td>\n",
       "      <td>PK</td>\n",
       "      <td>32.2989</td>\n",
       "      <td>69.5725</td>\n",
       "      <td>65.52</td>\n",
       "      <td>65.52</td>\n",
       "      <td>57</td>\n",
       "      <td>99</td>\n",
       "      <td>13.78</td>\n",
       "    </tr>\n",
       "    <tr>\n",
       "      <th>9</th>\n",
       "      <td>3204121</td>\n",
       "      <td>Biograd na Moru</td>\n",
       "      <td>HR</td>\n",
       "      <td>43.9433</td>\n",
       "      <td>15.4519</td>\n",
       "      <td>65.70</td>\n",
       "      <td>66.99</td>\n",
       "      <td>68</td>\n",
       "      <td>40</td>\n",
       "      <td>13.80</td>\n",
       "    </tr>\n",
       "    <tr>\n",
       "      <th>12</th>\n",
       "      <td>4031574</td>\n",
       "      <td>Provideniya</td>\n",
       "      <td>RU</td>\n",
       "      <td>64.3833</td>\n",
       "      <td>-173.3000</td>\n",
       "      <td>29.46</td>\n",
       "      <td>29.46</td>\n",
       "      <td>70</td>\n",
       "      <td>100</td>\n",
       "      <td>3.38</td>\n",
       "    </tr>\n",
       "  </tbody>\n",
       "</table>\n",
       "</div>"
      ],
      "text/plain": [
       "    City ID        City Name Country  City Latitude  City Longitude  \\\n",
       "3   1154689         Ko Samui      TH         9.5357         99.9357   \n",
       "4    770425   Janów Lubelski      PL        50.7070         22.4104   \n",
       "8   1162634             Wana      PK        32.2989         69.5725   \n",
       "9   3204121  Biograd na Moru      HR        43.9433         15.4519   \n",
       "12  4031574      Provideniya      RU        64.3833       -173.3000   \n",
       "\n",
       "    City Temperature  City Max Temperature  City Humidity  City Cloudiness  \\\n",
       "3              83.46                 83.46             71              100   \n",
       "4              60.98                 63.00             64              100   \n",
       "8              65.52                 65.52             57               99   \n",
       "9              65.70                 66.99             68               40   \n",
       "12             29.46                 29.46             70              100   \n",
       "\n",
       "    City Wind Speed  \n",
       "3              3.89  \n",
       "4              5.99  \n",
       "8             13.78  \n",
       "9             13.80  \n",
       "12             3.38  "
      ]
     },
     "execution_count": 59,
     "metadata": {},
     "output_type": "execute_result"
    }
   ],
   "source": [
    "northern_city_df = city_data_df.loc[city_data_df[\"City Latitude\"] >= 0]\n",
    "northern_city_df.head()"
   ]
  },
  {
   "cell_type": "code",
   "execution_count": 60,
   "metadata": {},
   "outputs": [
    {
     "data": {
      "text/html": [
       "<div>\n",
       "<style scoped>\n",
       "    .dataframe tbody tr th:only-of-type {\n",
       "        vertical-align: middle;\n",
       "    }\n",
       "\n",
       "    .dataframe tbody tr th {\n",
       "        vertical-align: top;\n",
       "    }\n",
       "\n",
       "    .dataframe thead th {\n",
       "        text-align: right;\n",
       "    }\n",
       "</style>\n",
       "<table border=\"1\" class=\"dataframe\">\n",
       "  <thead>\n",
       "    <tr style=\"text-align: right;\">\n",
       "      <th></th>\n",
       "      <th>City ID</th>\n",
       "      <th>City Name</th>\n",
       "      <th>Country</th>\n",
       "      <th>City Latitude</th>\n",
       "      <th>City Longitude</th>\n",
       "      <th>City Temperature</th>\n",
       "      <th>City Max Temperature</th>\n",
       "      <th>City Humidity</th>\n",
       "      <th>City Cloudiness</th>\n",
       "      <th>City Wind Speed</th>\n",
       "    </tr>\n",
       "  </thead>\n",
       "  <tbody>\n",
       "    <tr>\n",
       "      <th>0</th>\n",
       "      <td>3450909</td>\n",
       "      <td>Rondonópolis</td>\n",
       "      <td>BR</td>\n",
       "      <td>-16.4708</td>\n",
       "      <td>-54.6356</td>\n",
       "      <td>92.28</td>\n",
       "      <td>92.28</td>\n",
       "      <td>23</td>\n",
       "      <td>100</td>\n",
       "      <td>5.17</td>\n",
       "    </tr>\n",
       "    <tr>\n",
       "      <th>1</th>\n",
       "      <td>1650232</td>\n",
       "      <td>Banjar</td>\n",
       "      <td>ID</td>\n",
       "      <td>-8.1900</td>\n",
       "      <td>114.9675</td>\n",
       "      <td>80.60</td>\n",
       "      <td>80.60</td>\n",
       "      <td>94</td>\n",
       "      <td>20</td>\n",
       "      <td>6.91</td>\n",
       "    </tr>\n",
       "    <tr>\n",
       "      <th>2</th>\n",
       "      <td>4020109</td>\n",
       "      <td>Atuona</td>\n",
       "      <td>PF</td>\n",
       "      <td>-9.8000</td>\n",
       "      <td>-139.0333</td>\n",
       "      <td>78.64</td>\n",
       "      <td>78.64</td>\n",
       "      <td>75</td>\n",
       "      <td>27</td>\n",
       "      <td>7.23</td>\n",
       "    </tr>\n",
       "    <tr>\n",
       "      <th>5</th>\n",
       "      <td>4030556</td>\n",
       "      <td>Rikitea</td>\n",
       "      <td>PF</td>\n",
       "      <td>-23.1203</td>\n",
       "      <td>-134.9692</td>\n",
       "      <td>75.61</td>\n",
       "      <td>75.61</td>\n",
       "      <td>68</td>\n",
       "      <td>93</td>\n",
       "      <td>11.16</td>\n",
       "    </tr>\n",
       "    <tr>\n",
       "      <th>6</th>\n",
       "      <td>4032243</td>\n",
       "      <td>Vaini</td>\n",
       "      <td>TO</td>\n",
       "      <td>-21.2000</td>\n",
       "      <td>-175.2000</td>\n",
       "      <td>77.00</td>\n",
       "      <td>77.00</td>\n",
       "      <td>94</td>\n",
       "      <td>75</td>\n",
       "      <td>5.75</td>\n",
       "    </tr>\n",
       "  </tbody>\n",
       "</table>\n",
       "</div>"
      ],
      "text/plain": [
       "   City ID     City Name Country  City Latitude  City Longitude  \\\n",
       "0  3450909  Rondonópolis      BR       -16.4708        -54.6356   \n",
       "1  1650232        Banjar      ID        -8.1900        114.9675   \n",
       "2  4020109        Atuona      PF        -9.8000       -139.0333   \n",
       "5  4030556       Rikitea      PF       -23.1203       -134.9692   \n",
       "6  4032243         Vaini      TO       -21.2000       -175.2000   \n",
       "\n",
       "   City Temperature  City Max Temperature  City Humidity  City Cloudiness  \\\n",
       "0             92.28                 92.28             23              100   \n",
       "1             80.60                 80.60             94               20   \n",
       "2             78.64                 78.64             75               27   \n",
       "5             75.61                 75.61             68               93   \n",
       "6             77.00                 77.00             94               75   \n",
       "\n",
       "   City Wind Speed  \n",
       "0             5.17  \n",
       "1             6.91  \n",
       "2             7.23  \n",
       "5            11.16  \n",
       "6             5.75  "
      ]
     },
     "execution_count": 60,
     "metadata": {},
     "output_type": "execute_result"
    }
   ],
   "source": [
    "southern_city_df = city_data_df.loc[city_data_df[\"City Latitude\"] < 0]\n",
    "southern_city_df.head()"
   ]
  },
  {
   "cell_type": "markdown",
   "metadata": {},
   "source": [
    "### Northern Hemisphere - Max Temp vs Latitude Linear Regression"
   ]
  },
  {
   "cell_type": "code",
   "execution_count": 75,
   "metadata": {},
   "outputs": [
    {
     "name": "stdout",
     "output_type": "stream",
     "text": [
      "The line equation is y = -0.8x +86.68\n"
     ]
    },
    {
     "data": {
      "image/png": "[encoded data removed]",
      "text/plain": [
       "<Figure size 432x288 with 1 Axes>"
      ]
     },
     "metadata": {
      "needs_background": "light"
     },
     "output_type": "display_data"
    }
   ],
   "source": [
    "(slope, intercept, rvalue, pvalue, stderr) = linregress(northern_city_df[\"City Max Temperature\"],northern_city_df[\"City Latitude\"])\n",
    "regress_values = northern_city_df[\"City Max Temperature\"] * slope + intercept\n",
    "\n",
    "plt.grid()\n",
    "\n",
    "line_eq = \"y = \" + str(round(slope,2)) + \"x +\" + str(round(intercept,2))\n",
    "print(f\"The line equation is {line_eq}\")\n",
    "\n",
    "plt.scatter(northern_city_df[\"City Max Temperature\"],northern_city_df[\"City Latitude\"])\n",
    "plt.plot(northern_city_df[\"City Max Temperature\"], regress_values, \"r-\")\n",
    "plt.annotate(line_eq,(0,50), fontsize=15, color=\"red\")\n",
    "\n",
    "plt.title(\"Northern Hemisphere - Max Temp vs Latitude\")\n",
    "plt.xlabel(\"Max Temperature\")\n",
    "plt.ylabel(\"Latitude\")\n",
    "plt.show()"
   ]
  },
  {
   "cell_type": "code",
   "execution_count": 76,
   "metadata": {},
   "outputs": [
    {
     "name": "stdout",
     "output_type": "stream",
     "text": [
      "Northern Hemisphere - Max Temp vs Latitude\n",
      "The rvalue is -0.8713348126133136\n"
     ]
    }
   ],
   "source": [
    "print(\"Northern Hemisphere - Max Temp vs Latitude\")\n",
    "print(f\"The rvalue is {rvalue}\")"
   ]
  },
  {
   "cell_type": "markdown",
   "metadata": {},
   "source": [
    "### Southern Hemisphere - Max Temp vs. Latitude Linear Regression"
   ]
  },
  {
   "cell_type": "code",
   "execution_count": 77,
   "metadata": {},
   "outputs": [
    {
     "name": "stdout",
     "output_type": "stream",
     "text": [
      "The line equation is y = 0.94x +-86.5\n"
     ]
    },
    {
     "data": {
      "image/png": "[encoded data removed]",
      "text/plain": [
       "<Figure size 432x288 with 1 Axes>"
      ]
     },
     "metadata": {
      "needs_background": "light"
     },
     "output_type": "display_data"
    }
   ],
   "source": [
    "(slope, intercept, rvalue, pvalue, stderr) = linregress(southern_city_df[\"City Max Temperature\"],southern_city_df[\"City Latitude\"])\n",
    "regress_values = southern_city_df[\"City Max Temperature\"] * slope + intercept\n",
    "\n",
    "plt.grid()\n",
    "\n",
    "line_eq = \"y = \" + str(round(slope,2)) + \"x +\" + str(round(intercept,2))\n",
    "print(f\"The line equation is {line_eq}\")\n",
    "\n",
    "plt.scatter(southern_city_df[\"City Max Temperature\"],southern_city_df[\"City Latitude\"])\n",
    "plt.plot(southern_city_df[\"City Max Temperature\"], regress_values, \"r-\")\n",
    "plt.annotate(line_eq,(0,50), fontsize=15, color=\"red\")\n",
    "\n",
    "plt.title(\"Southern Hemisphere - Max Temp vs Latitude\")\n",
    "plt.xlabel(\"Max Temperature\")\n",
    "plt.ylabel(\"Latitude\")\n",
    "plt.show()"
   ]
  },
  {
   "cell_type": "code",
   "execution_count": 78,
   "metadata": {},
   "outputs": [
    {
     "name": "stdout",
     "output_type": "stream",
     "text": [
      "Southern Hemisphere - Max Temp vs Latitude\n",
      "The rvalue is 0.7707258497491765\n"
     ]
    }
   ],
   "source": [
    "print(\"Southern Hemisphere - Max Temp vs Latitude\")\n",
    "print(f\"The rvalue is {rvalue}\")"
   ]
  },
  {
   "cell_type": "markdown",
   "metadata": {},
   "source": [
    "### Northern Hemisphere - Humidity(%) vs. Latitude Linear Regression"
   ]
  },
  {
   "cell_type": "code",
   "execution_count": 79,
   "metadata": {},
   "outputs": [
    {
     "name": "stdout",
     "output_type": "stream",
     "text": [
      "The line equation is y = 0.16x +28.11\n"
     ]
    },
    {
     "data": {
      "image/png": "[encoded data removed]",
      "text/plain": [
       "<Figure size 432x288 with 1 Axes>"
      ]
     },
     "metadata": {
      "needs_background": "light"
     },
     "output_type": "display_data"
    }
   ],
   "source": [
    "(slope, intercept, rvalue, pvalue, stderr) = linregress(northern_city_df[\"City Humidity\"],northern_city_df[\"City Latitude\"])\n",
    "regress_values = northern_city_df[\"City Humidity\"] * slope + intercept\n",
    "\n",
    "plt.grid()\n",
    "\n",
    "line_eq = \"y = \" + str(round(slope,2)) + \"x +\" + str(round(intercept,2))\n",
    "print(f\"The line equation is {line_eq}\")\n",
    "\n",
    "plt.scatter(northern_city_df[\"City Humidity\"],northern_city_df[\"City Latitude\"])\n",
    "plt.plot(northern_city_df[\"City Humidity\"], regress_values, \"r-\")\n",
    "plt.annotate(line_eq,(0,50), fontsize=15, color=\"red\")\n",
    "\n",
    "plt.title(\"Northern Hemisphere - Humidity(%) vs Latitude\")\n",
    "plt.xlabel(\"Humidity(%)\")\n",
    "plt.ylabel(\"Latitude\")\n",
    "plt.show()"
   ]
  },
  {
   "cell_type": "code",
   "execution_count": 80,
   "metadata": {},
   "outputs": [
    {
     "name": "stdout",
     "output_type": "stream",
     "text": [
      "Northern Hemisphere - Humidity(%) vs Latitude\n",
      "The rvalue is 0.18799035156579666\n"
     ]
    }
   ],
   "source": [
    "print(\"Northern Hemisphere - Humidity(%) vs Latitude\")\n",
    "print(f\"The rvalue is {rvalue}\")"
   ]
  },
  {
   "cell_type": "markdown",
   "metadata": {},
   "source": [
    "### Southern Hemisphere - Humidity(%) vs. Latitude Linear Regression"
   ]
  },
  {
   "cell_type": "code",
   "execution_count": 81,
   "metadata": {},
   "outputs": [
    {
     "name": "stdout",
     "output_type": "stream",
     "text": [
      "The line equation is y = -0.03x +-18.1\n"
     ]
    },
    {
     "data": {
      "image/png": "[encoded data removed]",
      "text/plain": [
       "<Figure size 432x288 with 1 Axes>"
      ]
     },
     "metadata": {
      "needs_background": "light"
     },
     "output_type": "display_data"
    }
   ],
   "source": [
    "(slope, intercept, rvalue, pvalue, stderr) = linregress(southern_city_df[\"City Humidity\"],southern_city_df[\"City Latitude\"])\n",
    "regress_values = southern_city_df[\"City Humidity\"] * slope + intercept\n",
    "\n",
    "plt.grid()\n",
    "\n",
    "line_eq = \"y = \" + str(round(slope,2)) + \"x +\" + str(round(intercept,2))\n",
    "print(f\"The line equation is {line_eq}\")\n",
    "\n",
    "plt.scatter(southern_city_df[\"City Humidity\"],southern_city_df[\"City Latitude\"])\n",
    "plt.plot(southern_city_df[\"City Humidity\"], regress_values, \"r-\")\n",
    "plt.annotate(line_eq,(0,50), fontsize=15, color=\"red\")\n",
    "\n",
    "plt.title(\"Southern - Humidity(%) vs Latitude\")\n",
    "plt.xlabel(\"Humidity(%)\")\n",
    "plt.ylabel(\"Latitude\")\n",
    "plt.show()"
   ]
  },
  {
   "cell_type": "code",
   "execution_count": 82,
   "metadata": {},
   "outputs": [
    {
     "name": "stdout",
     "output_type": "stream",
     "text": [
      "Southern - Humidity(%) vs Latitude\n",
      "The rvalue is -0.03520132544719869\n"
     ]
    }
   ],
   "source": [
    "print(\"Southern - Humidity(%) vs Latitude\")\n",
    "print(f\"The rvalue is {rvalue}\")"
   ]
  },
  {
   "cell_type": "markdown",
   "metadata": {},
   "source": [
    "### Northern Hemisphere - Cloudiness (%) vs Latitude Linear Regression"
   ]
  },
  {
   "cell_type": "code",
   "execution_count": 84,
   "metadata": {},
   "outputs": [
    {
     "name": "stdout",
     "output_type": "stream",
     "text": [
      "The line equation is y = 0.04x +36.48\n"
     ]
    },
    {
     "data": {
      "image/png": "[encoded data removed]",
      "text/plain": [
       "<Figure size 432x288 with 1 Axes>"
      ]
     },
     "metadata": {
      "needs_background": "light"
     },
     "output_type": "display_data"
    }
   ],
   "source": [
    "(slope, intercept, rvalue, pvalue, stderr) = linregress(northern_city_df[\"City Cloudiness\"],northern_city_df[\"City Latitude\"])\n",
    "regress_values = northern_city_df[\"City Cloudiness\"] * slope + intercept\n",
    "\n",
    "plt.grid()\n",
    "\n",
    "line_eq = \"y = \" + str(round(slope,2)) + \"x +\" + str(round(intercept,2))\n",
    "print(f\"The line equation is {line_eq}\")\n",
    "\n",
    "plt.scatter(northern_city_df[\"City Cloudiness\"],northern_city_df[\"City Latitude\"])\n",
    "plt.plot(northern_city_df[\"City Cloudiness\"], regress_values, \"r-\")\n",
    "plt.annotate(line_eq,(0,50), fontsize=15, color=\"red\")\n",
    "\n",
    "plt.title(\"Northern Hemisphere - Cloudiness (%) vs Latitude\")\n",
    "plt.xlabel(\"Cloudiness(%)\")\n",
    "plt.ylabel(\"Latitude\")\n",
    "plt.show()"
   ]
  },
  {
   "cell_type": "code",
   "execution_count": 85,
   "metadata": {},
   "outputs": [
    {
     "name": "stdout",
     "output_type": "stream",
     "text": [
      "Northern Hemisphere - Cloudiness (%) vs Latitude\n",
      "The rvalue is 0.06756798691333887\n"
     ]
    }
   ],
   "source": [
    "print(\"Northern Hemisphere - Cloudiness (%) vs Latitude\")\n",
    "print(f\"The rvalue is {rvalue}\")"
   ]
  },
  {
   "cell_type": "markdown",
   "metadata": {},
   "source": [
    "### Southern Hemisphere - Cloudiness(%) vs Latitude Linear Regression"
   ]
  },
  {
   "cell_type": "code",
   "execution_count": 86,
   "metadata": {},
   "outputs": [
    {
     "name": "stdout",
     "output_type": "stream",
     "text": [
      "The line equation is y = 0.04x +-22.55\n"
     ]
    },
    {
     "data": {
      "image/png": "[encoded data removed]",
      "text/plain": [
       "<Figure size 432x288 with 1 Axes>"
      ]
     },
     "metadata": {
      "needs_background": "light"
     },
     "output_type": "display_data"
    }
   ],
   "source": [
    "(slope, intercept, rvalue, pvalue, stderr) = linregress(southern_city_df[\"City Cloudiness\"],southern_city_df[\"City Latitude\"])\n",
    "regress_values = southern_city_df[\"City Cloudiness\"] * slope + intercept\n",
    "\n",
    "plt.grid()\n",
    "\n",
    "line_eq = \"y = \" + str(round(slope,2)) + \"x +\" + str(round(intercept,2))\n",
    "print(f\"The line equation is {line_eq}\")\n",
    "\n",
    "plt.scatter(southern_city_df[\"City Cloudiness\"],southern_city_df[\"City Latitude\"])\n",
    "plt.plot(southern_city_df[\"City Cloudiness\"], regress_values, \"r-\")\n",
    "plt.annotate(line_eq,(0,50), fontsize=15, color=\"red\")\n",
    "\n",
    "plt.title(\"Southern Hemisphere - Cloudiness(%) vs Latitude\")\n",
    "plt.xlabel(\"Cloudiness(%)\")\n",
    "plt.ylabel(\"Latitude\")\n",
    "plt.show()"
   ]
  },
  {
   "cell_type": "code",
   "execution_count": 87,
   "metadata": {},
   "outputs": [
    {
     "name": "stdout",
     "output_type": "stream",
     "text": [
      "Southern Hemisphere - Cloudiness(%) vs Latitude\n",
      "The rvalue is 0.11831618669084566\n"
     ]
    }
   ],
   "source": [
    "print(\"Southern Hemisphere - Cloudiness(%) vs Latitude\")\n",
    "print(f\"The rvalue is {rvalue}\")"
   ]
  },
  {
   "cell_type": "markdown",
   "metadata": {},
   "source": [
    "### Northern Hemisphere - Wind Speed(mph) vs Latitude Linear Regression"
   ]
  },
  {
   "cell_type": "code",
   "execution_count": 88,
   "metadata": {},
   "outputs": [
    {
     "name": "stdout",
     "output_type": "stream",
     "text": [
      "The line equation is y = 0.37x +35.9\n"
     ]
    },
    {
     "data": {
      "image/png": "[encoded data removed]",
      "text/plain": [
       "<Figure size 432x288 with 1 Axes>"
      ]
     },
     "metadata": {
      "needs_background": "light"
     },
     "output_type": "display_data"
    }
   ],
   "source": [
    "(slope, intercept, rvalue, pvalue, stderr) = linregress(northern_city_df[\"City Wind Speed\"],northern_city_df[\"City Latitude\"])\n",
    "regress_values = northern_city_df[\"City Wind Speed\"] * slope + intercept\n",
    "\n",
    "plt.grid()\n",
    "\n",
    "line_eq = \"y = \" + str(round(slope,2)) + \"x +\" + str(round(intercept,2))\n",
    "print(f\"The line equation is {line_eq}\")\n",
    "\n",
    "plt.scatter(northern_city_df[\"City Wind Speed\"],northern_city_df[\"City Latitude\"])\n",
    "plt.plot(northern_city_df[\"City Wind Speed\"], regress_values, \"r-\")\n",
    "plt.annotate(line_eq,(0,50), fontsize=15, color=\"red\")\n",
    "\n",
    "plt.title(\"Northern Hemisphere - Wind Speed(mph) vs Latitude\")\n",
    "plt.xlabel(\"Cloudiness(%)\")\n",
    "plt.ylabel(\"Latitude\")\n",
    "plt.show()"
   ]
  },
  {
   "cell_type": "code",
   "execution_count": 89,
   "metadata": {},
   "outputs": [
    {
     "name": "stdout",
     "output_type": "stream",
     "text": [
      "Northern Hemisphere - Wind Speed(mph) vs Latitude\n",
      "The rvalue is 0.08797799905596106\n"
     ]
    }
   ],
   "source": [
    "print(\"Northern Hemisphere - Wind Speed(mph) vs Latitude\")\n",
    "print(f\"The rvalue is {rvalue}\")"
   ]
  },
  {
   "cell_type": "markdown",
   "metadata": {},
   "source": [
    "### Southern Hemisphere - Wind Speed (mph) vs. Latitude Linear Regression"
   ]
  },
  {
   "cell_type": "code",
   "execution_count": 90,
   "metadata": {},
   "outputs": [
    {
     "name": "stdout",
     "output_type": "stream",
     "text": [
      "The line equation is y = -0.04x +-19.8\n"
     ]
    },
    {
     "data": {
      "image/png": "[encoded data removed]",
      "text/plain": [
       "<Figure size 432x288 with 1 Axes>"
      ]
     },
     "metadata": {
      "needs_background": "light"
     },
     "output_type": "display_data"
    }
   ],
   "source": [
    "(slope, intercept, rvalue, pvalue, stderr) = linregress(southern_city_df[\"City Wind Speed\"],southern_city_df[\"City Latitude\"])\n",
    "regress_values = southern_city_df[\"City Wind Speed\"] * slope + intercept\n",
    "\n",
    "plt.grid()\n",
    "\n",
    "line_eq = \"y = \" + str(round(slope,2)) + \"x +\" + str(round(intercept,2))\n",
    "print(f\"The line equation is {line_eq}\")\n",
    "\n",
    "plt.scatter(southern_city_df[\"City Wind Speed\"],southern_city_df[\"City Latitude\"])\n",
    "plt.plot(southern_city_df[\"City Wind Speed\"], regress_values, \"r-\")\n",
    "plt.annotate(line_eq,(0,50), fontsize=15, color=\"red\")\n",
    "\n",
    "plt.title(\"Southern Hemisphere - Wind Speed (mph) vs. Latitude\")\n",
    "plt.xlabel(\"Cloudiness(%)\")\n",
    "plt.ylabel(\"Latitude\")\n",
    "plt.show()"
   ]
  },
  {
   "cell_type": "code",
   "execution_count": 91,
   "metadata": {},
   "outputs": [
    {
     "name": "stdout",
     "output_type": "stream",
     "text": [
      "Southern Hemisphere - Wind Speed (mph) vs. Latitude\n",
      "The rvalue is -0.013721872187115926\n"
     ]
    }
   ],
   "source": [
    "print(\"Southern Hemisphere - Wind Speed (mph) vs. Latitude\")\n",
    "print(f\"The rvalue is {rvalue}\")"
   ]
  },
  {
   "cell_type": "code",
   "execution_count": null,
   "metadata": {},
   "outputs": [],
   "source": []
  }
 ],
 "metadata": {
  "kernelspec": {
   "display_name": "Python 3",
   "language": "python",
   "name": "python3"
  },
  "language_info": {
   "codemirror_mode": {
    "name": "ipython",
    "version": 3
   },
   "file_extension": ".py",
   "mimetype": "text/x-python",
   "name": "python",
   "nbconvert_exporter": "python",
   "pygments_lexer": "ipython3",
   "version": "3.8.5"
  }
 },
 "nbformat": 4,
 "nbformat_minor": 4
}
